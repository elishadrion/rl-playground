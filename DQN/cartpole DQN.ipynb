{
 "cells": [
  {
   "cell_type": "markdown",
   "metadata": {},
   "source": [
    "# Cartpole DQN\n",
    "\n",
    "Inspired from [here](https://gist.github.com/muety/2a6722407117e4d668921fce53845432#file-dqn_cartpole-py)."
   ]
  },
  {
   "cell_type": "code",
   "execution_count": 12,
   "metadata": {},
   "outputs": [],
   "source": [
    "import tensorflow as tf\n",
    "import gym\n",
    "import numpy as np\n",
    "import itertools\n",
    "from random import sample\n",
    "from collections import deque\n",
    "import matplotlib.pyplot as plt\n",
    "\n",
    "from IPython.display import clear_output"
   ]
  },
  {
   "cell_type": "code",
   "execution_count": 7,
   "metadata": {},
   "outputs": [],
   "source": [
    "class DQN:\n",
    "    \n",
    "    def __init__(self, env, n_episodes, epsilon_decay, lr, gamma):\n",
    "        self.env = gym.make(env)\n",
    "        self.gamma = gamma\n",
    "        self.epsilon = 1.0\n",
    "        self.min_epsilon = 0.01\n",
    "        self.epsilon_decay = epsilon_decay\n",
    "        self.lr = lr\n",
    "        self.n_episodes = n_episodes\n",
    "        \n",
    "        self.nA = self.env.action_space.n\n",
    "        self.nO = len(self.env.observation_space.sample())\n",
    "        \n",
    "        self.memory = deque(maxlen=100000)\n",
    "        \n",
    "        \n",
    "        self.model = tf.keras.Sequential()\n",
    "        self.model.add(tf.keras.layers.Dense(16, input_dim=4, activation='relu'))\n",
    "        self.model.add(tf.keras.layers.Dense(32, activation='relu'))\n",
    "        self.model.add(tf.keras.layers.Dense(16, activation='relu'))\n",
    "        self.model.add(tf.keras.layers.Dense(self.nA, activation='linear'))\n",
    "        self.model.compile(loss='mse', optimizer=tf.keras.optimizers.Adam(learning_rate=self.lr))\n",
    "        \n",
    "        \n",
    "    def remember(self, state, action, reward, next_state, done):\n",
    "        self.memory.append((state, action, reward, next_state, done))\n",
    "        \n",
    "    def replay(self, batch_size=32):\n",
    "        X, Y = [], []\n",
    "        \n",
    "        if len(self.memory) < 10000:\n",
    "            return\n",
    "                \n",
    "        batch = sample(self.memory, min(len(self.memory), batch_size))\n",
    "        for state, action, reward, next_state, done in batch:\n",
    "            y_target = self.model.predict(state)[0]\n",
    "            y_target[action] = reward if done else reward + self.gamma*max(self.model.predict(next_state)[0])\n",
    "            \n",
    "            X.append(state[0])\n",
    "            Y.append(y_target)\n",
    "            \n",
    "        self.model.fit(np.array(X), np.array(Y))\n",
    "        \n",
    "        \n",
    "    def run(self):\n",
    "        \n",
    "        scores = deque(maxlen=100)\n",
    "        \n",
    "        mean_scores_history = []\n",
    "        for episode in itertools.count():\n",
    "            state = np.reshape(self.env.reset(), (1,4))\n",
    "            done = False\n",
    "            t = 0\n",
    "            while not done:\n",
    "                \n",
    "                if np.random.random() <= self.epsilon:\n",
    "                    action = self.env.action_space.sample()\n",
    "                else:\n",
    "                    action = np.argmax(self.model.predict(state))\n",
    "                \n",
    "                next_state, reward, done, _ = self.env.step(action)\n",
    "                next_state = np.reshape(next_state, (1,4))\n",
    "                \n",
    "                self.remember(state, action, reward, next_state, done)\n",
    "                state = next_state\n",
    "                t+=1\n",
    "                \n",
    "                \n",
    "            scores.append(t)\n",
    "            mean_score = np.mean(scores)\n",
    "            mean_scores_history.append(mean_score)\n",
    "            \n",
    "            if mean_score >= 195 and episode >= 100:\n",
    "                print('Ran {} episodes. Solved after {} episodes ✔'.format(episode, episode - 100))\n",
    "                return np.array(mean_scores_history)\n",
    "            \n",
    "            self.replay(64)\n",
    "            \n",
    "            if self.epsilon > self.min_epsilon:\n",
    "                self.epsilon *= self.epsilon_decay\n",
    "\n",
    "            clear_output(wait=True)\n",
    "            print('[Episode {}] - Mean survival time over last 100 episodes was {} ticks.'.format(episode, mean_score))\n",
    "    "
   ]
  },
  {
   "cell_type": "code",
   "execution_count": 8,
   "metadata": {},
   "outputs": [],
   "source": [
    "dqn = DQN(\"CartPole-v1\", 1000, 0.99, 0.001, 0.95)"
   ]
  },
  {
   "cell_type": "markdown",
   "metadata": {},
   "source": [
    "DQN has a high variance so with every new run, it might solves the cartpole problem faster or slower."
   ]
  },
  {
   "cell_type": "code",
   "execution_count": 9,
   "metadata": {},
   "outputs": [
    {
     "name": "stdout",
     "output_type": "stream",
     "text": [
      "[Episode 1502] - Mean survival time over last 100 episodes was 194.89 ticks.\n",
      "Ran 1503 episodes. Solved after 1403 episodes ✔\n"
     ]
    }
   ],
   "source": [
    "scores_history = dqn.run()"
   ]
  },
  {
   "cell_type": "code",
   "execution_count": 13,
   "metadata": {},
   "outputs": [
    {
     "data": {
      "text/plain": [
       "[<matplotlib.lines.Line2D at 0x7f53dc5aa8b0>]"
      ]
     },
     "execution_count": 13,
     "metadata": {},
     "output_type": "execute_result"
    },
    {
     "data": {
      "image/png": "[encoded data removed]",
      "text/plain": [
       "<Figure size 432x288 with 1 Axes>"
      ]
     },
     "metadata": {
      "needs_background": "light"
     },
     "output_type": "display_data"
    }
   ],
   "source": [
    "plt.plot(scores_history)"
   ]
  },
  {
   "cell_type": "code",
   "execution_count": null,
   "metadata": {},
   "outputs": [],
   "source": []
  }
 ],
 "metadata": {
  "kernelspec": {
   "display_name": "Python 3",
   "language": "python",
   "name": "python3"
  },
  "language_info": {
   "codemirror_mode": {
    "name": "ipython",
    "version": 3
   },
   "file_extension": ".py",
   "mimetype": "text/x-python",
   "name": "python",
   "nbconvert_exporter": "python",
   "pygments_lexer": "ipython3",
   "version": "3.8.2"
  }
 },
 "nbformat": 4,
 "nbformat_minor": 4
}
